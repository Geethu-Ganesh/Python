{
 "cells": [
  {
   "cell_type": "markdown",
   "id": "e47ebba5",
   "metadata": {},
   "source": [
    "# OOPS "
   ]
  },
  {
   "cell_type": "code",
   "execution_count": null,
   "id": "e50fa2f8",
   "metadata": {},
   "outputs": [],
   "source": [
    "# syntax\n",
    "# define a superclass\n",
    "class super_class:\n",
    "    # attributes and method definition\n",
    "\n",
    "# inheritance\n",
    "class sub_class(super_class):\n",
    "    # attributes and method of super_class\n",
    "    # attributes and method of sub_class"
   ]
  },
  {
   "cell_type": "code",
   "execution_count": 3,
   "id": "0a1375c1",
   "metadata": {},
   "outputs": [
    {
     "name": "stdout",
     "output_type": "stream",
     "text": [
      "Blu is 5 years old\n",
      "Red is 10 years old\n"
     ]
    }
   ],
   "source": [
    "# created a class with name parrot and attributes name,age\n",
    "class parrot:\n",
    "    name=\" \"\n",
    "    age= 0\n",
    "\n",
    "# create the instances,parrot1 & parrot2 of parrot class\n",
    "parrot1=parrot()\n",
    "parrot1.name=\"Blu\"\n",
    "parrot1.age=5\n",
    "\n",
    "parrot2=parrot()\n",
    "parrot2.name=\"Red\"\n",
    "parrot2.age=10\n",
    "\n",
    "print(f\"{parrot1.name} is {parrot1.age} years old\")\n",
    "print(f\"{parrot2.name} is {parrot2.age} years old\")      "
   ]
  },
  {
   "cell_type": "markdown",
   "id": "6c6885f1",
   "metadata": {},
   "source": [
    "# # Inheritance"
   ]
  },
  {
   "cell_type": "code",
   "execution_count": 4,
   "id": "bbc2c509",
   "metadata": {},
   "outputs": [
    {
     "name": "stdout",
     "output_type": "stream",
     "text": [
      "i can eat\n",
      "i can sleep\n",
      "i can bark\n"
     ]
    }
   ],
   "source": [
    "# parent class\n",
    "class Animal:\n",
    "    \n",
    "    def eat(self):\n",
    "        print(\"i can eat\")\n",
    "        \n",
    "    def sleep(self):\n",
    "        print(\"i can sleep\")\n",
    "\n",
    "# child class\n",
    "class Dog(Animal):\n",
    "    \n",
    "    def bark(self):\n",
    "        print(\"i can bark\")\n",
    " \n",
    "# creating object of class dog\n",
    "Dog1=Dog()\n",
    "\n",
    "# calling methods of parent class\n",
    "Dog1.eat()\n",
    "Dog1.sleep()\n",
    "\n",
    "# calling methods of child class\n",
    "Dog1.bark()\n",
    "\n",
    "# Dog1 can access the methods of parent class. bcz Dog is inherited from Animal."
   ]
  },
  {
   "cell_type": "code",
   "execution_count": 6,
   "id": "d610b85c",
   "metadata": {},
   "outputs": [
    {
     "name": "stdout",
     "output_type": "stream",
     "text": [
      "i can eat\n",
      "my name is raju\n"
     ]
    }
   ],
   "source": [
    "class Animal:\n",
    "# attribute and method of parent class    \n",
    "    name=\" \"\n",
    "    \n",
    "    def eat(self):\n",
    "        print(\"i can eat\")\n",
    "        \n",
    "# inherit from Animal        \n",
    "class Dog(Animal):\n",
    "    \n",
    "    #new method of subclass\n",
    "    def display(self):\n",
    "        print(\"my name is\",self.name)\n",
    "        \n",
    "# create an object of the class\n",
    "labrador= Dog()\n",
    "\n",
    "# access parent classs attribute and method\n",
    "labrador.name=\"raju\"\n",
    "labrador.eat()\n",
    "\n",
    "# call subclass method\n",
    "labrador.display()\n",
    "\n",
    "# we have accessed the name attribute inside the method of Dog class using self"
   ]
  },
  {
   "cell_type": "markdown",
   "id": "0527ed00",
   "metadata": {},
   "source": [
    "### Singlelevel Inheritance "
   ]
  },
  {
   "cell_type": "code",
   "execution_count": 1,
   "id": "8621bab9",
   "metadata": {},
   "outputs": [
    {
     "name": "stdout",
     "output_type": "stream",
     "text": [
      "hello, my name is Alice\n",
      "hello, my name is Bob\n"
     ]
    },
    {
     "data": {
      "text/plain": [
       "<__main__.Child at 0x1ad2cae8940>"
      ]
     },
     "execution_count": 1,
     "metadata": {},
     "output_type": "execute_result"
    }
   ],
   "source": [
    "#SINGLE LEVEL INHERITANCE \n",
    "#create subclass-> parent class \n",
    "\n",
    "class Parent:\n",
    "  def __init__(self, name):\n",
    "    self.name=name\n",
    "    \n",
    "  def greet(self):\n",
    "    print(f\"hello, my name is {self.name}\")\n",
    "\n",
    "#inheritance \n",
    "class Child(Parent):\n",
    "  def __init__(self, name, age):\n",
    "    super().__init__(name)\n",
    "    self.age=age \n",
    "\n",
    "  def describe(self):\n",
    "    print(f\"My name is {self.name} and I am {self.age} years old\")\n",
    "\n",
    "parent=Parent(\"Alice\")\n",
    "child=Child(\"Bob\", 10)\n",
    "\n",
    "#methods \n",
    "parent.greet()\n",
    "child.greet()\n",
    "child"
   ]
  },
  {
   "cell_type": "code",
   "execution_count": 1,
   "id": "7dabad88",
   "metadata": {},
   "outputs": [
    {
     "name": "stdout",
     "output_type": "stream",
     "text": [
      "hello name is any\n",
      "hello name is ann\n"
     ]
    }
   ],
   "source": [
    "class parent():\n",
    "    def __init__(self,name):\n",
    "        self.name=name\n",
    "        \n",
    "    def greet(self):\n",
    "        print(f\"hello name is {self.name}\")\n",
    "              \n",
    "class child(parent):\n",
    "    def __init__(self,name,age):\n",
    "              super().__init__(name)\n",
    "              self.age=age\n",
    "    def describe(self):\n",
    "              print(f\"my name is {self.name} and {self.age} old\")\n",
    "              \n",
    "parent=parent(\"ann\")\n",
    "child=child(\"any\",10)\n",
    "              \n",
    "child.greet()\n",
    "parent.greet()\n",
    "              \n",
    "    "
   ]
  },
  {
   "cell_type": "markdown",
   "id": "955ee66f",
   "metadata": {},
   "source": [
    "### Method Overriding"
   ]
  },
  {
   "cell_type": "code",
   "execution_count": null,
   "id": "7be9b6df",
   "metadata": {},
   "outputs": [],
   "source": [
    "# class Animal:\n",
    "\n",
    "    # attributes and method of the parent class\n",
    "    name = \"\"\n",
    "    \n",
    "    def eat(self):\n",
    "        print(\"I can eat\")\n",
    "\n",
    "# inherit from Animal\n",
    "class Dog(Animal):\n",
    "\n",
    "    # override eat() method\n",
    "    def eat(self):\n",
    "        print(\"I like to eat bones\")\n",
    "\n",
    "# create an object of the subclass\n",
    "labrador = Dog()\n",
    "\n",
    "# call the eat() method on the labrador object\n",
    "labrador.eat()\n",
    "\n",
    "# same method eat() present in Dog and Animal class.when we call eat method using object of Dog class. the method of Dog \n",
    "# class is called. bcz eat method of Dog class overrides eat method of Animal class"
   ]
  },
  {
   "cell_type": "markdown",
   "id": "b2420df8",
   "metadata": {},
   "source": [
    "### Supermethod"
   ]
  },
  {
   "cell_type": "code",
   "execution_count": 13,
   "id": "d871acbe",
   "metadata": {},
   "outputs": [
    {
     "name": "stdout",
     "output_type": "stream",
     "text": [
      "I can eat\n",
      "I like to eat bones\n"
     ]
    }
   ],
   "source": [
    "class Animal:\n",
    "\n",
    "    name = \"\"\n",
    "    \n",
    "    def eat(self):\n",
    "        print(\"I can eat\")\n",
    "\n",
    "# inherit from Animal\n",
    "class Dog(Animal):\n",
    "    \n",
    "    # override eat() method\n",
    "    def eat(self):\n",
    "        \n",
    "        # call the eat() method of the superclass using super()\n",
    "        super().eat()\n",
    "        \n",
    "        print(\"I like to eat bones\")\n",
    "\n",
    "# create an object of the subclass\n",
    "labrador = Dog()\n",
    "\n",
    "labrador.eat()\n",
    "\n",
    "# similar to above case, but to call the eat method of Animal super class from dog subclass we can use super(). both the \n",
    "# overridden and superclass version of the eat() method is executed"
   ]
  },
  {
   "cell_type": "code",
   "execution_count": 12,
   "id": "63947843",
   "metadata": {},
   "outputs": [
    {
     "name": "stdout",
     "output_type": "stream",
     "text": [
      "Message from parent class any\n",
      "Message from child class\n"
     ]
    }
   ],
   "source": [
    "##super()  => call a method from parent class in a child class \n",
    "#extend or inherit all the properties from parent class \n",
    "#correct method is called from parent class\n",
    "\n",
    "class Parent:\n",
    "    def show_message(self):\n",
    "        print(\"Message from parent class any\")\n",
    "        \n",
    "        \n",
    "class child(Parent):\n",
    "    def show_message(self):\n",
    "        super().show_message() #to call show msg method from Parent class \n",
    "        #it combines the functionalities of both!!( c \n",
    "        print(\"Message from child class\")\n",
    "        \n",
    "child_instance=child()\n",
    "child_instance.show_message()"
   ]
  },
  {
   "cell_type": "code",
   "execution_count": 10,
   "id": "63d97b33",
   "metadata": {},
   "outputs": [],
   "source": [
    "# __init__ function is a special method called constructor.it is automatically called when creating a new instance of class\n",
    "# the purpose of the method is to initialize the attributes of the class\n",
    "\n",
    "'''self keyword used to represent the instance of the object itself,To access or set instance attributes, \n",
    "To call other methods within the class, allows for method chaining(Enabling you to call multiple methods on the same \n",
    "objectline), Diffrentiating b/w instance and class variables\n",
    "'''\n",
    "class polygon:\n",
    "    \n",
    "    def __init__(self,no_of_sides):\n",
    "        self.n= no_of_sides\n",
    "        self.sides= [0 for i in range(no_of_sides)]   #this comprehension create list of zeroes upto no.of.sides\n",
    "     #__init__ initializes the no_of_sides of polygon   \n",
    "    \n",
    "    def InputSides(self):\n",
    "        self.sides= [float(input(\"Enter side \"+str(i+1)+\" : \")) for i in range (self.n)]\n",
    "        \n",
    "    def DispSides(self):\n",
    "        for i in range (self.n):\n",
    "            print(\"Side\", i+1, \"is\",self.sides[i])\n",
    "           "
   ]
  },
  {
   "cell_type": "markdown",
   "id": "0b46ef74",
   "metadata": {},
   "source": [
    "## Multpile Inheritance"
   ]
  },
  {
   "cell_type": "code",
   "execution_count": null,
   "id": "37cfa7e0",
   "metadata": {},
   "outputs": [],
   "source": [
    "# syntax\n",
    "class SuperClass1:\n",
    "    # features of SuperClass1\n",
    "\n",
    "class SuperClass2:\n",
    "    # features of SuperClass2\n",
    "\n",
    "class MultiDerived(SuperClass1, SuperClass2):\n",
    "    # features of SuperClass1 + SuperClass2 + MultiDerived class"
   ]
  },
  {
   "cell_type": "code",
   "execution_count": 14,
   "id": "6bd19fb6",
   "metadata": {},
   "outputs": [
    {
     "name": "stdout",
     "output_type": "stream",
     "text": [
      "Mammals can give direct birth.\n",
      "Winged animals can flap.\n"
     ]
    }
   ],
   "source": [
    "# A class can be derived from more than one superclass in Python. This is called multiple inheritance.\n",
    "class Mammal:\n",
    "    def mammal_info(self):\n",
    "        print(\"Mammals can give direct birth.\")\n",
    "\n",
    "class WingedAnimal:\n",
    "    def winged_animal_info(self):\n",
    "        print(\"Winged animals can flap.\")\n",
    "\n",
    "class Bat(Mammal, WingedAnimal):\n",
    "    pass  #used as a placeholder for future code\n",
    "\n",
    "# create an object of Bat class\n",
    "b1 = Bat()\n",
    "\n",
    "b1.mammal_info()\n",
    "b1.winged_animal_info()"
   ]
  },
  {
   "cell_type": "markdown",
   "id": "c3314cb9",
   "metadata": {},
   "source": [
    "## Multilevel Inheritance"
   ]
  },
  {
   "cell_type": "code",
   "execution_count": null,
   "id": "bb10a4e7",
   "metadata": {},
   "outputs": [],
   "source": [
    "# syntax\n",
    "class SuperClass:\n",
    "    # Super class code here\n",
    "\n",
    "class DerivedClass1(SuperClass):\n",
    "    # Derived class 1 code here\n",
    "\n",
    "class DerivedClass2(DerivedClass1):\n",
    "    # Derived class 2 code here"
   ]
  },
  {
   "cell_type": "code",
   "execution_count": 15,
   "id": "fdb0e907",
   "metadata": {},
   "outputs": [
    {
     "name": "stdout",
     "output_type": "stream",
     "text": [
      "Super Class method called\n",
      "Derived class 1 method called\n",
      "Derived class 2 method called\n"
     ]
    }
   ],
   "source": [
    "# derive a class from the derived class.\n",
    "class SuperClass:\n",
    "\n",
    "    def super_method(self):\n",
    "        print(\"Super Class method called\")\n",
    "\n",
    "# define class that derive from SuperClass\n",
    "class DerivedClass1(SuperClass):\n",
    "    def derived1_method(self):\n",
    "        print(\"Derived class 1 method called\")\n",
    "\n",
    "# define class that derive from DerivedClass1\n",
    "class DerivedClass2(DerivedClass1):\n",
    "\n",
    "    def derived2_method(self):\n",
    "        print(\"Derived class 2 method called\")\n",
    "\n",
    "# create an object of DerivedClass2\n",
    "d2 = DerivedClass2()\n",
    "\n",
    "d2.super_method()  # Output: \"Super Class method called\"\n",
    "\n",
    "d2.derived1_method()  # Output: \"Derived class 1 method called\"\n",
    "\n",
    "d2.derived2_method()  # Output: \"Derived class 2 method called\"\n",
    "\n",
    "# derived class inherits from derived class1 and super class"
   ]
  },
  {
   "cell_type": "code",
   "execution_count": null,
   "id": "cf574a79",
   "metadata": {},
   "outputs": [],
   "source": []
  }
 ],
 "metadata": {
  "kernelspec": {
   "display_name": "Python 3 (ipykernel)",
   "language": "python",
   "name": "python3"
  },
  "language_info": {
   "codemirror_mode": {
    "name": "ipython",
    "version": 3
   },
   "file_extension": ".py",
   "mimetype": "text/x-python",
   "name": "python",
   "nbconvert_exporter": "python",
   "pygments_lexer": "ipython3",
   "version": "3.9.13"
  }
 },
 "nbformat": 4,
 "nbformat_minor": 5
}
