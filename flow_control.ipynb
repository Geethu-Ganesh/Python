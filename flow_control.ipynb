{
 "cells": [
  {
   "cell_type": "markdown",
   "id": "3ed3ae35",
   "metadata": {},
   "source": [
    "# Conditional Statement"
   ]
  },
  {
   "cell_type": "markdown",
   "id": "385e3dc8",
   "metadata": {},
   "source": [
    "### IF"
   ]
  },
  {
   "cell_type": "code",
   "execution_count": 1,
   "id": "2b6d946f",
   "metadata": {},
   "outputs": [
    {
     "name": "stdout",
     "output_type": "stream",
     "text": [
      "Number is positive.\n",
      "The if statement is easy\n"
     ]
    }
   ],
   "source": [
    "number = 10\n",
    "if number > 0:\n",
    "    print('Number is positive.')\n",
    "\n",
    "print('The if statement is easy')"
   ]
  },
  {
   "cell_type": "markdown",
   "id": "e7d15c65",
   "metadata": {},
   "source": [
    "### IF-ELSE "
   ]
  },
  {
   "cell_type": "code",
   "execution_count": 2,
   "id": "861b3527",
   "metadata": {},
   "outputs": [
    {
     "name": "stdout",
     "output_type": "stream",
     "text": [
      "Positive number\n",
      "This statement is always executed\n"
     ]
    }
   ],
   "source": [
    "number = 10\n",
    "\n",
    "if number > 0:\n",
    "    print('Positive number')\n",
    "\n",
    "else:\n",
    "    print('Negative number')\n",
    "\n",
    "print('This statement is always executed')"
   ]
  },
  {
   "cell_type": "markdown",
   "id": "1551f6fa",
   "metadata": {},
   "source": [
    "### IF-ELIF"
   ]
  },
  {
   "cell_type": "code",
   "execution_count": 3,
   "id": "2b7c6a40",
   "metadata": {},
   "outputs": [
    {
     "name": "stdout",
     "output_type": "stream",
     "text": [
      "Zero\n",
      "This statement is always executed\n"
     ]
    }
   ],
   "source": [
    "number = 0\n",
    "\n",
    "if number > 0:\n",
    "    print(\"Positive number\")\n",
    "\n",
    "elif number == 0:\n",
    "    print('Zero')\n",
    "else:\n",
    "    print('Negative number')\n",
    "\n",
    "print('This statement is always executed')"
   ]
  },
  {
   "cell_type": "markdown",
   "id": "9f4f5db3",
   "metadata": {},
   "source": [
    "### NESTED-IF"
   ]
  },
  {
   "cell_type": "code",
   "execution_count": 4,
   "id": "dc401ebb",
   "metadata": {},
   "outputs": [
    {
     "name": "stdout",
     "output_type": "stream",
     "text": [
      "Number is positive\n"
     ]
    }
   ],
   "source": [
    "number = 5\n",
    "\n",
    "# outer if statement\n",
    "if (number >= 0):\n",
    "    # inner if statement\n",
    "    if number == 0:\n",
    "      print('Number is 0')\n",
    "    \n",
    "    # inner else statement\n",
    "    else:\n",
    "        print('Number is positive')\n",
    "\n",
    "# outer else statement\n",
    "else:\n",
    "    print('Number is negative')"
   ]
  },
  {
   "cell_type": "markdown",
   "id": "3f43728d",
   "metadata": {},
   "source": [
    "# LOOP"
   ]
  },
  {
   "cell_type": "markdown",
   "id": "bc5cd924",
   "metadata": {},
   "source": [
    "### For"
   ]
  },
  {
   "cell_type": "markdown",
   "id": "dcc4d30a",
   "metadata": {},
   "source": [
    "- used to iterate over sequences such as lists, tuples, string, etc.\n",
    "- used to repeat a specific block of code a known number of times."
   ]
  },
  {
   "cell_type": "code",
   "execution_count": 5,
   "id": "c4a0bae5",
   "metadata": {},
   "outputs": [
    {
     "name": "stdout",
     "output_type": "stream",
     "text": [
      "Swift\n",
      "Python\n",
      "Go\n",
      "JavaScript\n"
     ]
    }
   ],
   "source": [
    "languages = ['Swift', 'Python', 'Go', 'JavaScript']\n",
    "\n",
    "# run a loop for each item of the list\n",
    "for language in languages:\n",
    "    print(language)"
   ]
  },
  {
   "cell_type": "code",
   "execution_count": 6,
   "id": "c192fd14",
   "metadata": {},
   "outputs": [
    {
     "name": "stdout",
     "output_type": "stream",
     "text": [
      "Hello\n",
      "Hi\n",
      "Hello\n",
      "Hi\n",
      "Hello\n",
      "Hi\n"
     ]
    }
   ],
   "source": [
    "languages = ['Swift', 'Python', 'Go']\n",
    "\n",
    "for _ in languages:\n",
    "    print('Hello')\n",
    "    print('Hi')"
   ]
  },
  {
   "cell_type": "code",
   "execution_count": 7,
   "id": "c1c9dce9",
   "metadata": {},
   "outputs": [
    {
     "name": "stdout",
     "output_type": "stream",
     "text": [
      "0\n",
      "1\n",
      "5\n",
      "No items left.\n"
     ]
    }
   ],
   "source": [
    "# with else\n",
    "digits = [0, 1, 5]\n",
    "\n",
    "for i in digits:\n",
    "    print(i)\n",
    "else:\n",
    "    print(\"No items left.\")"
   ]
  },
  {
   "cell_type": "markdown",
   "id": "906d4736",
   "metadata": {},
   "source": [
    "### While "
   ]
  },
  {
   "cell_type": "markdown",
   "id": "87a86463",
   "metadata": {},
   "source": [
    "- used to run a block code until a certain condition is met.\n",
    "- used when we don't know the number of times it will repeat. "
   ]
  },
  {
   "cell_type": "code",
   "execution_count": 8,
   "id": "8baa325a",
   "metadata": {},
   "outputs": [
    {
     "name": "stdout",
     "output_type": "stream",
     "text": [
      "1\n",
      "2\n",
      "3\n",
      "4\n",
      "5\n"
     ]
    }
   ],
   "source": [
    "# program to display numbers from 1 to 5\n",
    "i = 1\n",
    "n = 5\n",
    "while i <= n:\n",
    "    print(i)\n",
    "    i = i + 1"
   ]
  },
  {
   "cell_type": "code",
   "execution_count": 9,
   "id": "3a50c7da",
   "metadata": {},
   "outputs": [
    {
     "name": "stdout",
     "output_type": "stream",
     "text": [
      "Inside loop\n",
      "Inside loop\n",
      "Inside loop\n",
      "Inside else\n"
     ]
    }
   ],
   "source": [
    "counter = 0\n",
    "\n",
    "while counter < 3:\n",
    "    print('Inside loop')\n",
    "    counter = counter + 1\n",
    "else:\n",
    "    print('Inside else')"
   ]
  },
  {
   "cell_type": "markdown",
   "id": "711c6db5",
   "metadata": {},
   "source": [
    "#  Control"
   ]
  },
  {
   "cell_type": "markdown",
   "id": "38efb974",
   "metadata": {},
   "source": [
    "### Continue"
   ]
  },
  {
   "cell_type": "markdown",
   "id": "c3c0af51",
   "metadata": {},
   "source": [
    "- it will skip the execution of the remaining statements in the loop and proceed with the next iteration in the loop"
   ]
  },
  {
   "cell_type": "code",
   "execution_count": 10,
   "id": "bc817124",
   "metadata": {},
   "outputs": [
    {
     "name": "stdout",
     "output_type": "stream",
     "text": [
      "letter: s\n",
      "letter: m\n",
      "letter: p\n",
      "letter: l\n",
      "letter: l\n",
      "letter: e\n",
      "letter: a\n",
      "letter: r\n",
      "letter: n\n",
      "end of execution\n"
     ]
    }
   ],
   "source": [
    "for letters in 'simplilearn':\n",
    "  if letters =='i':\n",
    "    continue\n",
    "  print('letter:',letters)\n",
    "print(\"end of execution\")"
   ]
  },
  {
   "cell_type": "markdown",
   "id": "f4aa296f",
   "metadata": {},
   "source": [
    "### Break "
   ]
  },
  {
   "cell_type": "markdown",
   "id": "d47c608f",
   "metadata": {},
   "source": [
    "- used to terminate the loop\n",
    "- control shift to the immediate next statement."
   ]
  },
  {
   "cell_type": "code",
   "execution_count": 11,
   "id": "8b02dd70",
   "metadata": {},
   "outputs": [
    {
     "name": "stdout",
     "output_type": "stream",
     "text": [
      "1\n",
      "2\n",
      "3\n",
      "4\n",
      "5\n",
      "end of execution\n"
     ]
    }
   ],
   "source": [
    "num=[1,2,3,4,5,6,7,8]\n",
    "count=0\n",
    "while(count<9):\n",
    "  print(num[count])\n",
    "  count=count+1\n",
    "  if count==5:\n",
    "    break\n",
    "print(\"end of execution\")"
   ]
  },
  {
   "cell_type": "markdown",
   "id": "bec456d9",
   "metadata": {},
   "source": [
    "### Pass"
   ]
  },
  {
   "cell_type": "markdown",
   "id": "dbbc8ae5",
   "metadata": {},
   "source": [
    "- it just passes the execution and starts executing the statement after the pass statement\n",
    "- placeholder for future code."
   ]
  },
  {
   "cell_type": "code",
   "execution_count": 12,
   "id": "18281731",
   "metadata": {},
   "outputs": [
    {
     "name": "stdout",
     "output_type": "stream",
     "text": [
      "the number is: 10\n",
      "the number is: 12\n",
      "the number is: 14\n",
      "the number is: 16\n",
      "the number is: 18\n",
      "the number is: 20\n",
      "the number is: 22\n",
      "the number is: 24\n"
     ]
    }
   ],
   "source": [
    "for number in range(10,25):\n",
    "  if (number%2 !=0):\n",
    "    pass\n",
    "  else:\n",
    "    print(\"the number is:\",number)"
   ]
  },
  {
   "cell_type": "code",
   "execution_count": null,
   "id": "bd2ed040",
   "metadata": {},
   "outputs": [],
   "source": []
  }
 ],
 "metadata": {
  "kernelspec": {
   "display_name": "Python 3 (ipykernel)",
   "language": "python",
   "name": "python3"
  },
  "language_info": {
   "codemirror_mode": {
    "name": "ipython",
    "version": 3
   },
   "file_extension": ".py",
   "mimetype": "text/x-python",
   "name": "python",
   "nbconvert_exporter": "python",
   "pygments_lexer": "ipython3",
   "version": "3.9.13"
  }
 },
 "nbformat": 4,
 "nbformat_minor": 5
}
