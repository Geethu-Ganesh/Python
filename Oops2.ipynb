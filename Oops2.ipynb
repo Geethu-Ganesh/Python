{
 "cells": [
  {
   "cell_type": "markdown",
   "id": "d8791a9a",
   "metadata": {},
   "source": [
    "# class"
   ]
  },
  {
   "cell_type": "markdown",
   "id": "d01b9be2",
   "metadata": {},
   "source": [
    "- An object is simply a collection of data(variable) and methods(functions). a class is a blueprint for objects\n",
    "- a class is a collection of objects or we can say as user defined datatypes\n",
    "- a class also holds the methods and attributes of the object\n",
    "- The variables inside a class are called attributes."
   ]
  },
  {
   "cell_type": "markdown",
   "id": "d47220fc",
   "metadata": {},
   "source": [
    "### Object\n",
    "- an object(instance) is known as instatiation of class\n",
    "- an object is a group of interrelated variables and methods\n",
    "- when a class is defined only the description of the object is defined therefor no memory or storage is allocated at that point"
   ]
  },
  {
   "cell_type": "code",
   "execution_count": 1,
   "id": "60fa15a4",
   "metadata": {},
   "outputs": [],
   "source": [
    "# create class\n",
    "class Bike:\n",
    "    name = \"\"\n",
    "    gear = 0\n",
    "\n",
    "# create objects of class\n",
    "bike1 = Bike()\n",
    "\n",
    "# access attributes and assign new values\n",
    "bike1.gear = 11\n",
    "bike1.name = \"Mountain Bike\"\n",
    "\n",
    "print(f\"Name: {bike1.name}, Gears: {bike1.gear} \")"
   ]
  },
  {
   "cell_type": "markdown",
   "id": "bcca014c",
   "metadata": {},
   "source": [
    "- C reated a class named Bike . Class has variables name and gear with values \" \",0 respectively.These variables are attributes\n",
    "- Bike1 is the object of the class. Assigned new values to the attributes using object and accessed those attributes"
   ]
  },
  {
   "cell_type": "code",
   "execution_count": 2,
   "id": "420cee44",
   "metadata": {},
   "outputs": [
    {
     "name": "stdout",
     "output_type": "stream",
     "text": [
      "Employee ID: 1001\n",
      "Employee ID: 1002\n"
     ]
    }
   ],
   "source": [
    "# another example\n",
    "\n",
    "# define a class\n",
    "class Employee:\n",
    "    # define an attribute\n",
    "    employee_id = 0\n",
    "\n",
    "# create two objects of the Employee class\n",
    "employee1 = Employee()\n",
    "employee2 = Employee()\n",
    "\n",
    "# access attributes using employee1\n",
    "employee1.employeeID = 1001\n",
    "print(f\"Employee ID: {employee1.employeeID}\")\n",
    "\n",
    "# access attributes using employee2\n",
    "employee2.employeeID = 1002\n",
    "print(f\"Employee ID: {employee2.employeeID}\")"
   ]
  },
  {
   "cell_type": "markdown",
   "id": "079f6470",
   "metadata": {},
   "source": [
    "### Methods"
   ]
  },
  {
   "cell_type": "markdown",
   "id": "706fbea8",
   "metadata": {},
   "source": [
    "- A Python Function defined inside a class is called a method.\n",
    "- the method is a function that is associated with an object\n",
    "- in python, a method is not unique to class instances.any object type can have methods\n",
    "- methods define the behaviour of an object"
   ]
  },
  {
   "cell_type": "code",
   "execution_count": 3,
   "id": "539c15d2",
   "metadata": {},
   "outputs": [
    {
     "name": "stdout",
     "output_type": "stream",
     "text": [
      "Area of Room = 1309.0\n"
     ]
    }
   ],
   "source": [
    "# create a class\n",
    "class Room:\n",
    "    length = 0.0\n",
    "    breadth = 0.0\n",
    "    \n",
    "    # method to calculate area\n",
    "    def calculate_area(self):\n",
    "        print(\"Area of Room =\", self.length * self.breadth)\n",
    "\n",
    "# create object of Room class\n",
    "study_room = Room()\n",
    "\n",
    "# assign values to all the attributes \n",
    "study_room.length = 42.5\n",
    "study_room.breadth = 30.8\n",
    "\n",
    "# access method inside class\n",
    "study_room.calculate_area()"
   ]
  },
  {
   "cell_type": "markdown",
   "id": "ec55c3d7",
   "metadata": {},
   "source": [
    "- we have created an object named study_room from the Room class. We then used the object to assign values to attributes: length and breadth.Notice that we have also used the object to call the method inside the class,"
   ]
  },
  {
   "cell_type": "markdown",
   "id": "5e4c178f",
   "metadata": {},
   "source": [
    "### Constructor "
   ]
  },
  {
   "cell_type": "markdown",
   "id": "95aaf3d8",
   "metadata": {},
   "source": [
    "- Earlier we assigned a default value to a class attribute,However, we can also initialize values using the constructors.\n",
    "-  __init__() is the constructor function that is called whenever a new object of that class is instantiated.If we use a constructor to initialize values inside a class, we need to pass the corresponding value during the object creation of the class.\n",
    "- \"Mountain Bike\" is passed to the name parameter of __init__().\n",
    "- it allocates memory when a new object created"
   ]
  },
  {
   "cell_type": "code",
   "execution_count": 5,
   "id": "2fe3c301",
   "metadata": {},
   "outputs": [],
   "source": [
    "class Bike:\n",
    "\n",
    "    # constructor function    \n",
    "    def __init__(self, name = \"\"):\n",
    "        self.name = name\n",
    "\n",
    "bike1 = Bike()\n",
    "\n",
    "bike1 = Bike(\"Mountain Bike\")"
   ]
  },
  {
   "cell_type": "markdown",
   "id": "d56796c4",
   "metadata": {},
   "source": [
    "# Polymorphism "
   ]
  },
  {
   "cell_type": "markdown",
   "id": "913474d5",
   "metadata": {},
   "source": [
    "- The literal meaning of polymorphism is the condition of occurrence in different forms.\n",
    "- It refers to the use of a single type entity (method, operator or object) to represent different types in different scenarios.\n",
    "- different classes to have methods with the same name.\n",
    "- We can generalize calling these methods by disregarding the object we are working with\n",
    "- poly means many and morphs means shape\n",
    "  polymorphism means using a familiar interface for multiple forms(data types). in single terms we understand that a task can be performed in various ways"
   ]
  },
  {
   "cell_type": "markdown",
   "id": "70d5f175",
   "metadata": {},
   "source": [
    "### Function polymorphism "
   ]
  },
  {
   "cell_type": "markdown",
   "id": "357082db",
   "metadata": {},
   "source": [
    "- len() function can run with many data types in Python\n",
    "- string data types, + operator is used to perform concatenation.For integer data types, + operator is used to perform arithmetic addition operation."
   ]
  },
  {
   "cell_type": "code",
   "execution_count": 3,
   "id": "7984f954",
   "metadata": {},
   "outputs": [
    {
     "name": "stdout",
     "output_type": "stream",
     "text": [
      "9\n",
      "3\n",
      "2\n"
     ]
    }
   ],
   "source": [
    "print(len(\"Programiz\"))\n",
    "print(len([\"Python\", \"Java\", \"C\"]))\n",
    "print(len({\"Name\": \"John\", \"Address\": \"Nepal\"}))"
   ]
  },
  {
   "cell_type": "code",
   "execution_count": 4,
   "id": "18134d5b",
   "metadata": {},
   "outputs": [
    {
     "name": "stdout",
     "output_type": "stream",
     "text": [
      "Meow\n",
      "I am a cat. My name is Kitty. I am 2.5 years old.\n",
      "Meow\n",
      "Bark\n",
      "I am a dog. My name is Fluffy. I am 4 years old.\n",
      "Bark\n"
     ]
    }
   ],
   "source": [
    "class Cat:\n",
    "    def __init__(self, name, age):\n",
    "        self.name = name\n",
    "        self.age = age\n",
    "\n",
    "    def info(self):\n",
    "        print(f\"I am a cat. My name is {self.name}. I am {self.age} years old.\")\n",
    "\n",
    "    def make_sound(self):\n",
    "        print(\"Meow\")\n",
    "\n",
    "\n",
    "class Dog:\n",
    "    def __init__(self, name, age):\n",
    "        self.name = name\n",
    "        self.age = age\n",
    "\n",
    "    def info(self):\n",
    "        print(f\"I am a dog. My name is {self.name}. I am {self.age} years old.\")\n",
    "\n",
    "    def make_sound(self):\n",
    "        print(\"Bark\")\n",
    "\n",
    "\n",
    "cat1 = Cat(\"Kitty\", 2.5)\n",
    "dog1 = Dog(\"Fluffy\", 4)\n",
    "\n",
    "for animal in (cat1, dog1):\n",
    "    animal.make_sound()\n",
    "    animal.info()\n",
    "    animal.make_sound()\n"
   ]
  },
  {
   "cell_type": "markdown",
   "id": "c6f65c25",
   "metadata": {},
   "source": [
    "- here we have created two class dog & cat. They share a similar structure and have the same method names info()\n",
    "and make_sound()\n",
    "- we have not created a common super class or linked the classess together in anyway.even then we can pack these two different\n",
    "objects into tuple and iterate through it using a common animal variable."
   ]
  },
  {
   "cell_type": "markdown",
   "id": "0299f3de",
   "metadata": {},
   "source": [
    "# Encapsulation"
   ]
  },
  {
   "cell_type": "markdown",
   "id": "78684163",
   "metadata": {},
   "source": [
    "-  Encapsulation refers to the bundling of attributes and methods inside a single class.\n",
    "- It prevents outer classes from accessing and changing attributes and methods of a class. This also helps to achieve data\n",
    "hiding.\n",
    "- using oop in python,we can restrict access to methods and variables\n",
    "- python doesn't have any private keyword unlikie java. this prevents data from direct modification which is called encapsulation"
   ]
  },
  {
   "cell_type": "code",
   "execution_count": 6,
   "id": "882e67d5",
   "metadata": {},
   "outputs": [
    {
     "name": "stdout",
     "output_type": "stream",
     "text": [
      "Selling Price: 900\n",
      "Selling Price: 900\n",
      "Selling Price: 1000\n"
     ]
    }
   ],
   "source": [
    "class Computer:\n",
    "\n",
    "    def __init__(self):\n",
    "        self.__maxprice = 900\n",
    "\n",
    "    def sell(self):\n",
    "        print(\"Selling Price: {}\".format(self.__maxprice))\n",
    "\n",
    "    def setMaxPrice(self, price):\n",
    "        self.__maxprice = price\n",
    "\n",
    "c = Computer()\n",
    "c.sell()\n",
    "\n",
    "# change the price\n",
    "c.__maxprice = 1000\n",
    "c.sell()\n",
    "\n",
    "# using setter function\n",
    "c.setMaxPrice(1000)\n",
    "c.sell()"
   ]
  },
  {
   "cell_type": "code",
   "execution_count": null,
   "id": "fe46421a",
   "metadata": {},
   "outputs": [],
   "source": [
    "'''we defined a Computer class.\n",
    "We used __init__() method to store the maximum selling price of Computer. Here, notice the code.we have tried to modify the \n",
    "value of __maxprice outside of the class. However, since __maxprice is a private variable, this modification is not seen on \n",
    "the output.to change the value, we have to use a setter function i.e setMaxPrice() which takes price as a parameter.'''"
   ]
  },
  {
   "cell_type": "markdown",
   "id": "abac888d",
   "metadata": {},
   "source": [
    "### Protected Encapsulation "
   ]
  },
  {
   "attachments": {},
   "cell_type": "markdown",
   "id": "9d459dad",
   "metadata": {},
   "source": [
    "- members of the class that cannot be accessed outside the class but can be accessed from within the class and its \n",
    "subclasses.\n",
    "- Protected attributes are defined with an underscore prefixed to their identifier eg. _sara. They can still be accessed and modified from outside the class"
   ]
  },
  {
   "cell_type": "code",
   "execution_count": 10,
   "id": "bddedc78",
   "metadata": {},
   "outputs": [
    {
     "name": "stdout",
     "output_type": "stream",
     "text": [
      "Calling protected member of base class:  2\n",
      "Calling modified protected member outside class:  3\n",
      "Accessing protected member of obj1:  3\n",
      "Accessing protected member of obj2:  2\n"
     ]
    }
   ],
   "source": [
    "# Creating a base class \n",
    "class Base: \n",
    "    def __init__(self): \n",
    "  \n",
    "        # Protected member \n",
    "        self._a = 2      #to define a protected member prefix the member name with double underscore “_”.\n",
    "  \n",
    "# Creating a derived class \n",
    "class Derived(Base): \n",
    "    def __init__(self): \n",
    "  \n",
    "        # Calling constructor of \n",
    "        # Base class \n",
    "        Base.__init__(self) \n",
    "        print(\"Calling protected member of base class: \",  \n",
    "              self._a) \n",
    "  \n",
    "        # Modify the protected variable: \n",
    "        self._a = 3\n",
    "        print(\"Calling modified protected member outside class: \", \n",
    "              self._a) \n",
    "  \n",
    "  \n",
    "obj1 = Derived() \n",
    "  \n",
    "obj2 = Base() \n",
    "  \n",
    "# Calling protected member \n",
    "# Can be accessed but should not be done due to convention \n",
    "print(\"Accessing protected member of obj1: \", obj1._a) \n",
    "  \n",
    "# Accessing the protected variable outside \n",
    "print(\"Accessing protected member of obj2: \", obj2._a) \n"
   ]
  },
  {
   "cell_type": "code",
   "execution_count": 8,
   "id": "9a04d01e",
   "metadata": {},
   "outputs": [
    {
     "name": "stdout",
     "output_type": "stream",
     "text": [
      "base\n",
      "2\n"
     ]
    }
   ],
   "source": [
    "class base:\n",
    "    def __init__(self):\n",
    "        print(\"base\")\n",
    "    def print(self):\n",
    "        self._a=2\n",
    "class derived(base):\n",
    "    def print1(self):\n",
    "        print(self._a)\n",
    "obj=derived()\n",
    "obj.print()\n",
    "obj.print1()"
   ]
  },
  {
   "cell_type": "markdown",
   "id": "0b703505",
   "metadata": {},
   "source": [
    "### Private Encapsulation "
   ]
  },
  {
   "attachments": {},
   "cell_type": "markdown",
   "id": "1ec1313b",
   "metadata": {},
   "source": [
    "- class members declared private should neither be accessed outside the class nor by any base class.\n",
    "- Private attributes are attributes with double underscore prefixed to their identifier eg. __ansh. They cannot be accessed or modified from the outside directly and will result in an AttributeError if such an attempt is made."
   ]
  },
  {
   "cell_type": "code",
   "execution_count": 12,
   "id": "55d9e229",
   "metadata": {},
   "outputs": [
    {
     "name": "stdout",
     "output_type": "stream",
     "text": [
      "Geethu\n"
     ]
    }
   ],
   "source": [
    "class Base: \n",
    "    def __init__(self): \n",
    "        self.a = \"Geethu\"\n",
    "        self.__c = \"Geethu\"\n",
    "  \n",
    "# Creating a derived class \n",
    "class Derived(Base): \n",
    "    def __init__(self): \n",
    "  \n",
    "        # Calling constructor of \n",
    "        # Base class \n",
    "        Base.__init__(self) \n",
    "        print(\"Calling private member of base class: \") \n",
    "        print(self.__c)    #to define a private member prefix the member name with double underscore “__”.\n",
    "  \n",
    "  \n",
    "# Driver code \n",
    "obj1 = Base() \n",
    "print(obj1.a) \n",
    "  \n",
    "# Uncommenting print(obj1.c) will \n",
    "# raise an AttributeError \n",
    "  \n",
    "# Uncommenting obj2 = Derived() will \n",
    "# also raise an AttributeError as \n",
    "# private member of base class \n",
    "# is called inside derived class \n"
   ]
  },
  {
   "cell_type": "markdown",
   "id": "83c0e916",
   "metadata": {},
   "source": [
    "# Abstraction"
   ]
  },
  {
   "cell_type": "markdown",
   "id": "6289a3d9",
   "metadata": {},
   "source": [
    "- Abstraction focuses on hiding the internal implementations of a process or method from the user. In this way, the user \n",
    "knows what he is doing but not how the work is being done.\n",
    "- data abstraction and encapsulation are often used as synonyms\n",
    "- abstraction is used to hide internal details and show only functionalities \n",
    "- eg:you know how to turn on/off light but you dont know what is happening inside\n",
    "- an abstract class cannot be instantiated which means you cannot create objects for the class.it can only be used for inheriting the functionalities"
   ]
  },
  {
   "cell_type": "code",
   "execution_count": 15,
   "id": "13599273",
   "metadata": {},
   "outputs": [
    {
     "name": "stdout",
     "output_type": "stream",
     "text": [
      "We are inside test_class task\n",
      "Passed value:  100\n",
      "We are inside example_class task\n",
      "Passed value:  200\n",
      "test_obj is instance of Absclass?  True\n",
      "example_obj is instance of Absclass?  True\n"
     ]
    }
   ],
   "source": [
    "from abc import ABC, abstractmethod\n",
    "class Absclass(ABC):\n",
    "    def print(self,x):\n",
    "        print(\"Passed value: \", x)\n",
    "    @abstractmethod\n",
    "    def task(self):\n",
    "        print(\"We are inside Absclass task\")\n",
    " \n",
    "class test_class(Absclass):\n",
    "    def task(self):\n",
    "        print(\"We are inside test_class task\")\n",
    " \n",
    "class example_class(Absclass):\n",
    "    def task(self):\n",
    "        print(\"We are inside example_class task\")\n",
    " \n",
    "#object of test_class created\n",
    "test_obj = test_class()\n",
    "test_obj.task()\n",
    "test_obj.print(100)\n",
    " \n",
    "#object of example_class created\n",
    "example_obj = example_class()\n",
    "example_obj.task()\n",
    "example_obj.print(200)\n",
    " \n",
    "print(\"test_obj is instance of Absclass? \", isinstance(test_obj, Absclass))\n",
    "print(\"example_obj is instance of Absclass? \", isinstance(example_obj, Absclass))"
   ]
  },
  {
   "cell_type": "code",
   "execution_count": null,
   "id": "79f7ca7b",
   "metadata": {},
   "outputs": [],
   "source": [
    "'''Absclass is the abstract class that inherits from the ABC class from the abc module. It contains an abstract method \n",
    "task() and a print() method which are visible by the user. Two other classes inheriting from this abstract class are \n",
    "test_class and example_class. Both of them have their own task() method (extension of the abstract method).\n",
    "After the user creates objects from both the test_class and example_class classes and invoke the task() method for both of \n",
    "them, the hidden definitions for task() methods inside both the classes come into play. These definitions are hidden from \n",
    "the user. The abstract method task() from the abstract class Absclass is actually never invoked.\n",
    "But when the print() method is called for both the test_obj and example_obj, the Absclass’s print() method is invoked since \n",
    "it is not an abstract method.\n",
    "'''"
   ]
  }
 ],
 "metadata": {
  "kernelspec": {
   "display_name": "Python 3 (ipykernel)",
   "language": "python",
   "name": "python3"
  },
  "language_info": {
   "codemirror_mode": {
    "name": "ipython",
    "version": 3
   },
   "file_extension": ".py",
   "mimetype": "text/x-python",
   "name": "python",
   "nbconvert_exporter": "python",
   "pygments_lexer": "ipython3",
   "version": "3.9.13"
  }
 },
 "nbformat": 4,
 "nbformat_minor": 5
}
