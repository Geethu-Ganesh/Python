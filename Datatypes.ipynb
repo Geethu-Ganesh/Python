{
 "cells": [
  {
   "cell_type": "markdown",
   "id": "1a846299",
   "metadata": {},
   "source": [
    "# Datatypes"
   ]
  },
  {
   "cell_type": "code",
   "execution_count": 1,
   "id": "f6f8e30d",
   "metadata": {},
   "outputs": [],
   "source": [
    "# datatypes\n",
    "# 1)numbers\n",
    "# 2)string\n",
    "# 3)list\n",
    "# 4)tuple\n",
    "# 5)dictionary\n",
    "# 6)set"
   ]
  },
  {
   "cell_type": "markdown",
   "id": "daa02494",
   "metadata": {},
   "source": [
    "## Numbers "
   ]
  },
  {
   "cell_type": "code",
   "execution_count": 2,
   "id": "381871e5",
   "metadata": {},
   "outputs": [
    {
     "name": "stdout",
     "output_type": "stream",
     "text": [
      "<class 'int'>\n",
      "<class 'float'>\n",
      "<class 'complex'>\n"
     ]
    }
   ],
   "source": [
    "# numbers-int,float,complex\n",
    "num1=1  #int\n",
    "print(type(num1))\n",
    "\n",
    "num2=1.2\n",
    "print(type(num2))\n",
    "\n",
    "num3=3+4j\n",
    "print(type(num3))"
   ]
  },
  {
   "cell_type": "code",
   "execution_count": 6,
   "id": "4f6b14d0",
   "metadata": {},
   "outputs": [
    {
     "name": "stdout",
     "output_type": "stream",
     "text": [
      "107\n",
      "253\n",
      "13\n"
     ]
    }
   ],
   "source": [
    "# number system\n",
    "# 1)binary\n",
    "# 2)octal\n",
    "# 3)hexadecimal\n",
    "\n",
    "print(0b1101011)  # prints 107\n",
    "\n",
    "print(0xFB + 0b10)  # prints 253\n",
    "\n",
    "print(0o15)  # prints 13\n"
   ]
  },
  {
   "cell_type": "code",
   "execution_count": 12,
   "id": "e081be6a",
   "metadata": {},
   "outputs": [
    {
     "name": "stdout",
     "output_type": "stream",
     "text": [
      "1.2\n",
      "1\n",
      "3\n",
      "3.0\n",
      "(3+4j)\n"
     ]
    }
   ],
   "source": [
    "# type conversion\n",
    "# 1)explicit conversion\n",
    "num1=1.2\n",
    "print(num1)\n",
    "num1=int(1.2)\n",
    "print(num1)\n",
    "\n",
    "num3=3\n",
    "print(num3)\n",
    "num3=float(num3)\n",
    "print(num3)\n",
    "\n",
    "num4=complex('3+4j')\n",
    "print(num4)"
   ]
  },
  {
   "cell_type": "markdown",
   "id": "bb3fe19c",
   "metadata": {},
   "source": [
    "# Random Module"
   ]
  },
  {
   "cell_type": "code",
   "execution_count": 21,
   "id": "575bf2c7",
   "metadata": {},
   "outputs": [
    {
     "name": "stdout",
     "output_type": "stream",
     "text": [
      "11\n",
      "0.9560342718892494\n"
     ]
    }
   ],
   "source": [
    "# python random module\n",
    "# python offers random module to generate random numbers or to pick a random item from an iterator\n",
    "import random\n",
    "# returns a random integer from the given range\n",
    "print(random.randrange(10,20))\n",
    "\n",
    "# seed value is same it gives same value of random numbers\n",
    "random.seed(2)\n",
    "# random generate random numbers\n",
    "print(random.random())"
   ]
  },
  {
   "cell_type": "code",
   "execution_count": 16,
   "id": "7bda725a",
   "metadata": {},
   "outputs": [
    {
     "name": "stdout",
     "output_type": "stream",
     "text": [
      "8\n"
     ]
    }
   ],
   "source": [
    "# returns a random integer b/w a&b inclusive\n",
    "print(random.randint(2,8))"
   ]
  },
  {
   "cell_type": "code",
   "execution_count": 24,
   "id": "e02f9789",
   "metadata": {},
   "outputs": [
    {
     "name": "stdout",
     "output_type": "stream",
     "text": [
      "['a', 'b', 'c', 'd', 'e']\n",
      "c\n"
     ]
    }
   ],
   "source": [
    "list1 = ['a', 'b', 'c', 'd', 'e']\n",
    "print(list1)\n",
    "# get random item from list1\n",
    "print(random.choice(list1))"
   ]
  },
  {
   "cell_type": "code",
   "execution_count": 27,
   "id": "9c8ff67a",
   "metadata": {},
   "outputs": [
    {
     "name": "stdout",
     "output_type": "stream",
     "text": [
      "['d', 'e', 'a', 'b', 'c']\n"
     ]
    }
   ],
   "source": [
    "# shuffle list\n",
    "random.shuffle(list1)\n",
    "print(list1)"
   ]
  },
  {
   "cell_type": "markdown",
   "id": "a80d5205",
   "metadata": {},
   "source": [
    "# Math"
   ]
  },
  {
   "cell_type": "code",
   "execution_count": 29,
   "id": "621bb266",
   "metadata": {},
   "outputs": [
    {
     "name": "stdout",
     "output_type": "stream",
     "text": [
      "3.141592653589793\n",
      "-1.0\n",
      "22026.465794806718\n",
      "3.0\n",
      "1.1752011936438014\n",
      "720\n"
     ]
    }
   ],
   "source": [
    "# python offers math module to carry different operations\n",
    "import math\n",
    "print(math.pi)\n",
    "\n",
    "print(math.cos(math.pi))\n",
    "\n",
    "print(math.exp(10))\n",
    "\n",
    "print(math.log10(1000))\n",
    "\n",
    "print(math.sinh(1))\n",
    "\n",
    "print(math.factorial(6))"
   ]
  },
  {
   "cell_type": "markdown",
   "id": "c61b8a5d",
   "metadata": {},
   "source": [
    "## List"
   ]
  },
  {
   "cell_type": "markdown",
   "id": "500f6d56",
   "metadata": {},
   "source": [
    "- list are stored multiple data at once\n",
    "- list is mutable(can add or remove item)\n",
    "- list can store different datatypes items\n",
    "- list can store duplicate items\n",
    "- list is ordered"
   ]
  },
  {
   "cell_type": "code",
   "execution_count": 19,
   "id": "5a212374",
   "metadata": {},
   "outputs": [
    {
     "name": "stdout",
     "output_type": "stream",
     "text": [
      "[19, 26, 23]\n",
      "19\n",
      "0\n",
      "[19, 26]\n",
      "[19, 26, 23, 32]\n",
      "[19, 26, 23, 32, 'a', 'b', 'c']\n",
      "[19, 'hi', 26, 23, 32, 'a', 'b', 'c']\n",
      "[19, 'hello', 26, 23, 32, 'a', 'b', 'c']\n",
      "[19, 26, 23, 32, 'a', 'b', 'c']\n",
      "[19, 26, 23, 32, 'b', 'c']\n",
      "[19, 23, 32, 'b', 'c']\n",
      "1\n",
      "[2, 3, 6, 8]\n",
      "[8, 6, 3, 2]\n",
      "[2, 3, 6, 8]\n",
      "[2, 3, 6, 8]\n"
     ]
    }
   ],
   "source": [
    "list1 =  [19, 26, 23]\n",
    "print(list1)\n",
    "\n",
    "# acess item at index 0\n",
    "print(list1[0]) \n",
    "\n",
    "# indexing the position of item\n",
    "print(list1.index(19))\n",
    "\n",
    "# slicing\n",
    "print(list1[0:2])\n",
    "\n",
    "# append\n",
    "list1.append(32)\n",
    "print(list1)\n",
    "\n",
    "# extend list by other list\n",
    "list2=[\"a\",\"b\",\"c\"]\n",
    "list1.extend(list2)\n",
    "print(list1)\n",
    "\n",
    "# insert item in list\n",
    "list1.insert(1,\"hi\")\n",
    "print(list1)\n",
    "\n",
    "# changing item\n",
    "list1[1]=\"hello\"\n",
    "print(list1)\n",
    "\n",
    "# delete item\n",
    "del list1[1]\n",
    "print(list1)\n",
    "\n",
    "# remove item\n",
    "list1.remove('a')\n",
    "print(list1)\n",
    "\n",
    "# remove using pop\n",
    "list1.pop(1)\n",
    "print(list1)\n",
    "\n",
    "# count specified item\n",
    "print(list1.count(19))\n",
    "\n",
    "# sort the list(ascending/descending)\n",
    "list3=[2,6,3,8]\n",
    "list3.sort()\n",
    "print(list3)\n",
    "# descending order\n",
    "list3.sort(reverse=True)\n",
    "print(list3)\n",
    "# length order\n",
    "list.sort(key=len)\n",
    "\n",
    "# reverse list\n",
    "list3.reverse()\n",
    "print(list3)\n",
    "\n",
    "# shallow copy\n",
    "numbers=list3.copy()\n",
    "print(numbers)\n",
    "\n",
    "# clear list\n",
    "list3.clear()"
   ]
  },
  {
   "cell_type": "markdown",
   "id": "12577419",
   "metadata": {},
   "source": [
    "## Tuple "
   ]
  },
  {
   "cell_type": "markdown",
   "id": "d3354584",
   "metadata": {},
   "source": [
    "- tuple is immutable\n",
    "- can store different types\n"
   ]
  },
  {
   "cell_type": "code",
   "execution_count": null,
   "id": "95e7e536",
   "metadata": {},
   "outputs": [],
   "source": [
    "# tuple\n",
    "tuple1 = (1, \"Hello\", \"hi\")\n",
    "print(tuple1)\n",
    "\n",
    "# without parenthesis\n",
    "my_tuple = 1, 2, 3\n",
    "\n",
    "# one element tuple(needs comma otherwise it will be string)\n",
    "var2 = (\"Hello\",)\n",
    "\n",
    "# indexing\n",
    "print(tuple1[0]) \n",
    "\n",
    "# slicing\n",
    "print(tuple1[0:2]) \n",
    "\n",
    "# counting\n",
    "print(tuple1.count(1))\n",
    "\n",
    "# gives index\n",
    "print(tuple1.index(1))"
   ]
  },
  {
   "cell_type": "markdown",
   "id": "0bcb1882",
   "metadata": {},
   "source": [
    "## String"
   ]
  },
  {
   "cell_type": "markdown",
   "id": "36699268",
   "metadata": {},
   "source": [
    "- a string is a sequence of characters\n",
    "- string is immutable\n",
    "- can create multiline string"
   ]
  },
  {
   "cell_type": "code",
   "execution_count": 39,
   "id": "a3d6c308",
   "metadata": {},
   "outputs": [
    {
     "name": "stdout",
     "output_type": "stream",
     "text": [
      "Python\n",
      "y\n",
      "yth\n",
      "False\n",
      "Hello, Jack\n",
      "7\n",
      "True\n",
      "False\n",
      "hello, \n",
      "HELLO, \n",
      "('I could eat ', 'bananas', ' all day')\n",
      "rot roll\n",
      "20\n",
      "hello mng\n",
      "['BMW', 'Telsa', 'Range Rover']\n",
      "False\n",
      "True\n"
     ]
    },
    {
     "data": {
      "text/plain": [
       "6"
      ]
     },
     "execution_count": 39,
     "metadata": {},
     "output_type": "execute_result"
    }
   ],
   "source": [
    "name = \"Python\"\n",
    "print(name)\n",
    "\n",
    "# access 1st index element\n",
    "print(name[1])\n",
    "\n",
    "# slicing\n",
    "print(name[1:4])\n",
    "\n",
    "# comparing string\n",
    "str1 = \"Hello, world!\"\n",
    "str2 = \"I love Python.\"\n",
    "print(str1 == str2)\n",
    "\n",
    "# join(concantenate) string\n",
    "greet = \"Hello, \"\n",
    "name = \"Jack\"\n",
    "result = greet + name\n",
    "print(result)\n",
    "\n",
    "# counting length\n",
    "print(len(greet))\n",
    "\n",
    "# string membership test\n",
    "print('a' in 'program')\n",
    "print('at' not in 'battle')\n",
    "\n",
    "# convert into uppercase & lowercase\n",
    "print(greet.lower())\n",
    "print(greet.upper())\n",
    "\n",
    "# partition\n",
    "txt = \"I could eat bananas all day\"\n",
    "x = txt.partition(\"bananas\")\n",
    "print(x)\n",
    "\n",
    "# replace\n",
    "text = 'bat ball'\n",
    "replaced_text = text.replace('ba', 'ro')\n",
    "print(replaced_text)\n",
    "\n",
    "# find\n",
    "print(txt.find('all'))\n",
    "\n",
    "# remove trailing whitespace from title\n",
    "title=\"hello mng   \"\n",
    "result = title.rstrip()\n",
    "print(result)\n",
    "\n",
    "# split at '-'\n",
    "cars = 'BMW-Telsa-Range Rover'\n",
    "print(cars.split('-'))\n",
    "\n",
    "# check if the message starts with Python\n",
    "print(title.startswith('mng'))\n",
    "\n",
    "# checks if every character of pin is numeric \n",
    "pin = \"523\"\n",
    "print(pin.isnumeric())\n",
    "\n",
    "# indexing\n",
    "title.index('mng')"
   ]
  },
  {
   "cell_type": "markdown",
   "id": "518abd94",
   "metadata": {},
   "source": [
    "## set"
   ]
  },
  {
   "cell_type": "markdown",
   "id": "0f46999f",
   "metadata": {},
   "source": [
    "- set collection of unique data\n",
    "- set can store different types\n",
    "- set cannot contain duplicate items"
   ]
  },
  {
   "cell_type": "code",
   "execution_count": 46,
   "id": "80139336",
   "metadata": {},
   "outputs": [
    {
     "name": "stdout",
     "output_type": "stream",
     "text": [
      "{112, 114, 115, 116, 118}\n",
      "{112, 32, 114, 115, 116, 118}\n",
      "{112, 32, 114, 115, 116, 1, 118, 2}\n",
      "{112, 32, 115, 116, 1, 118, 2}\n"
     ]
    }
   ],
   "source": [
    "numbers = {112, 114, 116, 118, 115}\n",
    "print(numbers)\n",
    "\n",
    "# add item\n",
    "numbers.add(32)\n",
    "print(numbers)\n",
    "\n",
    "# update with other iterable\n",
    "set1={1,2}\n",
    "numbers.update(set1)\n",
    "print(numbers)\n",
    "\n",
    "numbers.discard(114)\n",
    "print(numbers)"
   ]
  },
  {
   "cell_type": "code",
   "execution_count": 52,
   "id": "51682dcb",
   "metadata": {},
   "outputs": [
    {
     "name": "stdout",
     "output_type": "stream",
     "text": [
      "{0, 1, 2, 3, 4, 5}\n",
      "set()\n",
      "{1, 3, 5}\n",
      "using ^: {0, 1, 2, 3, 4, 5}\n",
      "using symmetric_difference(): {0, 1, 2, 3, 4, 5}\n"
     ]
    }
   ],
   "source": [
    "#union of set\n",
    "A = {1, 3, 5}\n",
    "B = {0, 2, 4}\n",
    "print( A | B)\n",
    "\n",
    "# intersection of set\n",
    "print(A & B)\n",
    "\n",
    "# difference of sets\n",
    "print(A - B)\n",
    "\n",
    "# perform difference operation using &\n",
    "print('using ^:', A ^ B)\n",
    "# using symmetric_difference()\n",
    "print('using symmetric_difference():', A.symmetric_difference(B)) \n",
    "\n",
    "# perform difference operation using &\n",
    "if A == B:"
   ]
  },
  {
   "cell_type": "markdown",
   "id": "1f9ca6fb",
   "metadata": {},
   "source": [
    "### Dictionary"
   ]
  },
  {
   "cell_type": "markdown",
   "id": "c7ee8d2e",
   "metadata": {},
   "source": [
    "- key-value pair\n",
    "- can't access key using value\n",
    "- one element means key-value pair\n",
    "- dictionary key must be immutable"
   ]
  },
  {
   "cell_type": "code",
   "execution_count": 1,
   "id": "c3e43bd4",
   "metadata": {},
   "outputs": [
    {
     "name": "stdout",
     "output_type": "stream",
     "text": [
      "{'polo': 'blue', 'i20': 'black', 'alto': 'red'}\n"
     ]
    }
   ],
   "source": [
    "# creating dictionary\n",
    "car = {\n",
    "  \"polo\": \"blue\", \n",
    "  \"i20\": \"black\", \n",
    "  \"alto\": \"red\"\n",
    "}\n",
    "print(car)"
   ]
  },
  {
   "cell_type": "code",
   "execution_count": 2,
   "id": "f17b886e",
   "metadata": {},
   "outputs": [
    {
     "name": "stdout",
     "output_type": "stream",
     "text": [
      "3\n"
     ]
    }
   ],
   "source": [
    "# length of dictionary\n",
    "print(len(car))"
   ]
  },
  {
   "cell_type": "code",
   "execution_count": 3,
   "id": "59612b7c",
   "metadata": {},
   "outputs": [
    {
     "name": "stdout",
     "output_type": "stream",
     "text": [
      "red\n"
     ]
    }
   ],
   "source": [
    "# access value using key\n",
    "print(car[\"alto\"])"
   ]
  },
  {
   "cell_type": "code",
   "execution_count": 4,
   "id": "5ca7498c",
   "metadata": {},
   "outputs": [
    {
     "name": "stdout",
     "output_type": "stream",
     "text": [
      "{'polo': 'green', 'i20': 'black', 'alto': 'red'}\n"
     ]
    }
   ],
   "source": [
    "# changing value using key\n",
    "car[\"polo\"]=\"green\"\n",
    "print(car)"
   ]
  },
  {
   "cell_type": "code",
   "execution_count": 5,
   "id": "4cd2c75a",
   "metadata": {},
   "outputs": [
    {
     "name": "stdout",
     "output_type": "stream",
     "text": [
      "{'polo': 'green', 'i20': 'black', 'alto': 'red', 'dezire': 'white'}\n"
     ]
    }
   ],
   "source": [
    "# adding another pair\n",
    "car[\"dezire\"]=\"white\"\n",
    "print(car)"
   ]
  },
  {
   "cell_type": "code",
   "execution_count": 6,
   "id": "958cca6c",
   "metadata": {},
   "outputs": [
    {
     "name": "stdout",
     "output_type": "stream",
     "text": [
      "{'i20': 'black', 'alto': 'red', 'dezire': 'white'}\n"
     ]
    }
   ],
   "source": [
    "# deleting one pair\n",
    "del car[\"polo\"]\n",
    "print(car)"
   ]
  },
  {
   "cell_type": "code",
   "execution_count": null,
   "id": "d2b69af2",
   "metadata": {},
   "outputs": [],
   "source": []
  }
 ],
 "metadata": {
  "kernelspec": {
   "display_name": "Python 3 (ipykernel)",
   "language": "python",
   "name": "python3"
  },
  "language_info": {
   "codemirror_mode": {
    "name": "ipython",
    "version": 3
   },
   "file_extension": ".py",
   "mimetype": "text/x-python",
   "name": "python",
   "nbconvert_exporter": "python",
   "pygments_lexer": "ipython3",
   "version": "3.9.13"
  }
 },
 "nbformat": 4,
 "nbformat_minor": 5
}
